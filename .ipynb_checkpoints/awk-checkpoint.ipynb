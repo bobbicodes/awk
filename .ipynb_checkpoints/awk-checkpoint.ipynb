{
 "cells": [
  {
   "cell_type": "code",
   "execution_count": 1,
   "metadata": {},
   "outputs": [
    {
     "name": "stdout",
     "output_type": "stream",
     "text": [
      "Beth 4.00 0\n",
      "Dan 3.75 0\n",
      "Kathy 4.00 10\n",
      "Mark 5.00 20\n",
      "Mary 5.50 22\n",
      "Susie 4.25 18\n"
     ]
    }
   ],
   "source": [
    "cat emp.data"
   ]
  },
  {
   "cell_type": "code",
   "execution_count": 2,
   "metadata": {},
   "outputs": [
    {
     "name": "stdout",
     "output_type": "stream",
     "text": [
      "Beth 4.00 0\n",
      "Dan 3.75 0\n",
      "Kathy 4.00 10\n",
      "Mark 5.00 20\n",
      "Mary 5.50 22\n",
      "Susie 4.25 18\n"
     ]
    }
   ],
   "source": [
    "awk '{ print }' emp.data"
   ]
  },
  {
   "cell_type": "code",
   "execution_count": null,
   "metadata": {},
   "outputs": [],
   "source": []
  }
 ],
 "metadata": {
  "kernelspec": {
   "display_name": "Bash",
   "language": "bash",
   "name": "bash"
  },
  "language_info": {
   "codemirror_mode": "shell",
   "file_extension": ".sh",
   "mimetype": "text/x-sh",
   "name": "bash"
  }
 },
 "nbformat": 4,
 "nbformat_minor": 2
}
