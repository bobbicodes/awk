{
 "cells": [
  {
   "cell_type": "markdown",
   "metadata": {},
   "source": [
    "# The AWK Programming Language"
   ]
  },
  {
   "cell_type": "code",
   "execution_count": 1,
   "metadata": {},
   "outputs": [
    {
     "name": "stdout",
     "output_type": "stream",
     "text": [
      "Beth 4.00 0\n",
      "Dan 3.75 0\n",
      "Kathy 4.00 10\n",
      "Mark 5.00 20\n",
      "Mary 5.50 22\n",
      "Susie 4.25 18\n"
     ]
    }
   ],
   "source": [
    "cat emp.data"
   ]
  },
  {
   "cell_type": "code",
   "execution_count": 2,
   "metadata": {},
   "outputs": [
    {
     "name": "stdout",
     "output_type": "stream",
     "text": [
      "Beth 4.00 0\n",
      "Dan 3.75 0\n",
      "Kathy 4.00 10\n",
      "Mark 5.00 20\n",
      "Mary 5.50 22\n",
      "Susie 4.25 18\n"
     ]
    }
   ],
   "source": [
    "%%bash\n",
    "awk '{ print }' emp.data"
   ]
  },
  {
   "cell_type": "code",
   "execution_count": null,
   "metadata": {},
   "outputs": [],
   "source": []
  }
 ],
 "metadata": {
  "kernelspec": {
   "display_name": "Python 3",
   "language": "python",
   "name": "python3"
  },
  "language_info": {
   "codemirror_mode": {
    "name": "ipython",
    "version": 3
   },
   "file_extension": ".py",
   "mimetype": "text/x-python",
   "name": "python",
   "nbconvert_exporter": "python",
   "pygments_lexer": "ipython3",
   "version": "3.6.7"
  }
 },
 "nbformat": 4,
 "nbformat_minor": 2
}
