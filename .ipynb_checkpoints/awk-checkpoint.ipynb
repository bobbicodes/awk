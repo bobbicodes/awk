{
 "cells": [
  {
   "cell_type": "markdown",
   "metadata": {},
   "source": [
    "# The AWK Programming Language\n",
    "\n",
    "Alfred V. Aho  \n",
    "Brian W. Kernighan  \n",
    "Peter J Weinberger"
   ]
  },
  {
   "cell_type": "markdown",
   "metadata": {},
   "source": [
    "## 1.1 Getting Started"
   ]
  },
  {
   "cell_type": "markdown",
   "metadata": {},
   "source": [
    "Suppose you have a\n",
    "file called `emp.data` that contains the name, pay rate in dollars per hour, and\n",
    "number of hours worked for your employees, one employee record per line:"
   ]
  },
  {
   "cell_type": "code",
   "execution_count": 1,
   "metadata": {},
   "outputs": [
    {
     "name": "stdout",
     "output_type": "stream",
     "text": [
      "Beth 4.00 0\n",
      "Dan 3.75 0\n",
      "Kathy 4.00 10\n",
      "Mark 5.00 20\n",
      "Mary 5.50 22\n",
      "Susie 4.25 18\n"
     ]
    }
   ],
   "source": [
    "cat emp.data"
   ]
  },
  {
   "cell_type": "markdown",
   "metadata": {},
   "source": [
    "Now you want to print the name and pay (rate times hours) for everyone who\n",
    "worked more than zero hours:"
   ]
  },
  {
   "cell_type": "code",
   "execution_count": 1,
   "metadata": {},
   "outputs": [
    {
     "name": "stdout",
     "output_type": "stream",
     "text": [
      "Kathy 40\n",
      "Mark 100\n",
      "Mary 121\n",
      "Susie 76.5\n"
     ]
    }
   ],
   "source": [
    "awk '$3 > 0 { print $1, $2 * $3 }' emp.data"
   ]
  },
  {
   "cell_type": "markdown",
   "metadata": {},
   "source": [
    "To print the names of those employees who did not work:"
   ]
  },
  {
   "cell_type": "code",
   "execution_count": 2,
   "metadata": {},
   "outputs": [
    {
     "name": "stdout",
     "output_type": "stream",
     "text": [
      "Beth\n",
      "Dan\n"
     ]
    }
   ],
   "source": [
    "awk '$3 == 0 { print $1 }' emp.data"
   ]
  },
  {
   "cell_type": "markdown",
   "metadata": {},
   "source": [
    "## Simple Output\n",
    "\n",
    "**Print every line**"
   ]
  },
  {
   "cell_type": "code",
   "execution_count": 3,
   "metadata": {},
   "outputs": [
    {
     "name": "stdout",
     "output_type": "stream",
     "text": [
      "Beth 4.00 0\n",
      "Dan 3.75 0\n",
      "Kathy 4.00 10\n",
      "Mark 5.00 20\n",
      "Mary 5.50 22\n",
      "Susie 4.25 18\n"
     ]
    }
   ],
   "source": [
    "awk '{ print }' emp.data"
   ]
  },
  {
   "cell_type": "code",
   "execution_count": 4,
   "metadata": {},
   "outputs": [
    {
     "name": "stdout",
     "output_type": "stream",
     "text": [
      "Beth 4.00 0\n",
      "Dan 3.75 0\n",
      "Kathy 4.00 10\n",
      "Mark 5.00 20\n",
      "Mary 5.50 22\n",
      "Susie 4.25 18\n"
     ]
    }
   ],
   "source": [
    "awk '{ print $0 }' emp.data"
   ]
  },
  {
   "cell_type": "markdown",
   "metadata": {},
   "source": [
    "**Print certain fields**"
   ]
  },
  {
   "cell_type": "code",
   "execution_count": 5,
   "metadata": {},
   "outputs": [
    {
     "name": "stdout",
     "output_type": "stream",
     "text": [
      "Beth 0\n",
      "Dan 0\n",
      "Kathy 10\n",
      "Mark 20\n",
      "Mary 22\n",
      "Susie 18\n"
     ]
    }
   ],
   "source": [
    "awk '{ print $1, $3 }' emp.data"
   ]
  },
  {
   "cell_type": "markdown",
   "metadata": {},
   "source": [
    "**NF, the Number of Fields**"
   ]
  },
  {
   "cell_type": "code",
   "execution_count": 6,
   "metadata": {},
   "outputs": [
    {
     "name": "stdout",
     "output_type": "stream",
     "text": [
      "3 Beth 0\n",
      "3 Dan 0\n",
      "3 Kathy 10\n",
      "3 Mark 20\n",
      "3 Mary 22\n",
      "3 Susie 18\n"
     ]
    }
   ],
   "source": [
    "awk '{ print NF, $1, $NF }' emp.data"
   ]
  },
  {
   "cell_type": "markdown",
   "metadata": {},
   "source": [
    "**Computing and Printing**"
   ]
  },
  {
   "cell_type": "code",
   "execution_count": 7,
   "metadata": {},
   "outputs": [
    {
     "name": "stdout",
     "output_type": "stream",
     "text": [
      "Beth 0\n",
      "Dan 0\n",
      "Kathy 40\n",
      "Mark 100\n",
      "Mary 121\n",
      "Susie 76.5\n"
     ]
    }
   ],
   "source": [
    "awk '{ print $1, $2 * $3 }' emp.data"
   ]
  },
  {
   "cell_type": "markdown",
   "metadata": {},
   "source": [
    "**Printing line numbers**"
   ]
  },
  {
   "cell_type": "code",
   "execution_count": 8,
   "metadata": {},
   "outputs": [
    {
     "name": "stdout",
     "output_type": "stream",
     "text": [
      "1 Beth 4.00 0\n",
      "2 Dan 3.75 0\n",
      "3 Kathy 4.00 10\n",
      "4 Mark 5.00 20\n",
      "5 Mary 5.50 22\n",
      "6 Susie 4.25 18\n"
     ]
    }
   ],
   "source": [
    "awk '{ print NR, $0 }' emp.data"
   ]
  },
  {
   "cell_type": "markdown",
   "metadata": {},
   "source": [
    "**Putting Text in the Output**"
   ]
  },
  {
   "cell_type": "code",
   "execution_count": 10,
   "metadata": {},
   "outputs": [
    {
     "name": "stdout",
     "output_type": "stream",
     "text": [
      "total pay for Beth is 0\n",
      "total pay for Dan is 0\n",
      "total pay for Kathy is 40\n",
      "total pay for Mark is 100\n",
      "total pay for Mary is 121\n",
      "total pay for Susie is 76.5\n"
     ]
    }
   ],
   "source": [
    "awk '{ print \"total pay for\", $1, \"is\", $2 * $3 }' emp.data"
   ]
  },
  {
   "cell_type": "code",
   "execution_count": null,
   "metadata": {},
   "outputs": [],
   "source": []
  }
 ],
 "metadata": {
  "kernelspec": {
   "display_name": "Bash",
   "language": "bash",
   "name": "bash"
  },
  "language_info": {
   "codemirror_mode": "shell",
   "file_extension": ".sh",
   "mimetype": "text/x-sh",
   "name": "bash"
  }
 },
 "nbformat": 4,
 "nbformat_minor": 2
}
