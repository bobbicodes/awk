{
 "cells": [
  {
   "cell_type": "markdown",
   "metadata": {},
   "source": [
    "# The AWK Programming Language\n",
    "\n",
    "Alfred V. Aho  \n",
    "Brian W. Kernighan  \n",
    "Peter J Weinberger"
   ]
  },
  {
   "cell_type": "markdown",
   "metadata": {},
   "source": [
    "## 1.1 Getting Started"
   ]
  },
  {
   "cell_type": "markdown",
   "metadata": {},
   "source": [
    "Suppose you have a\n",
    "file called `emp.data` that contains the name, pay rate in dollars per hour, and\n",
    "number of hours worked for your employees, one employee record per line:"
   ]
  },
  {
   "cell_type": "code",
   "execution_count": 1,
   "metadata": {},
   "outputs": [
    {
     "name": "stdout",
     "output_type": "stream",
     "text": [
      "Beth 4.00 0\n",
      "Dan 3.75 0\n",
      "Kathy 4.00 10\n",
      "Mark 5.00 20\n",
      "Mary 5.50 22\n",
      "Susie 4.25 18\n"
     ]
    }
   ],
   "source": [
    "cat emp.data"
   ]
  },
  {
   "cell_type": "markdown",
   "metadata": {},
   "source": [
    "Now you want to print the name and pay (rate times hours) for everyone who\n",
    "worked more than zero hours:"
   ]
  },
  {
   "cell_type": "code",
   "execution_count": 1,
   "metadata": {},
   "outputs": [
    {
     "name": "stdout",
     "output_type": "stream",
     "text": [
      "Kathy 40\n",
      "Mark 100\n",
      "Mary 121\n",
      "Susie 76.5\n"
     ]
    }
   ],
   "source": [
    "awk '$3 > 0 { print $1, $2 * $3 }' emp.data"
   ]
  },
  {
   "cell_type": "markdown",
   "metadata": {},
   "source": [
    "To print the names of those employees who did not work:"
   ]
  },
  {
   "cell_type": "code",
   "execution_count": 2,
   "metadata": {},
   "outputs": [
    {
     "name": "stdout",
     "output_type": "stream",
     "text": [
      "Beth\n",
      "Dan\n"
     ]
    }
   ],
   "source": [
    "awk '$3 == 0 { print $1 }' emp.data"
   ]
  },
  {
   "cell_type": "markdown",
   "metadata": {},
   "source": [
    "## 1.2 Simple Output\n",
    "\n",
    "**Print every line**"
   ]
  },
  {
   "cell_type": "code",
   "execution_count": 3,
   "metadata": {},
   "outputs": [
    {
     "name": "stdout",
     "output_type": "stream",
     "text": [
      "Beth 4.00 0\n",
      "Dan 3.75 0\n",
      "Kathy 4.00 10\n",
      "Mark 5.00 20\n",
      "Mary 5.50 22\n",
      "Susie 4.25 18\n"
     ]
    }
   ],
   "source": [
    "awk '{ print }' emp.data"
   ]
  },
  {
   "cell_type": "code",
   "execution_count": 4,
   "metadata": {},
   "outputs": [
    {
     "name": "stdout",
     "output_type": "stream",
     "text": [
      "Beth 4.00 0\n",
      "Dan 3.75 0\n",
      "Kathy 4.00 10\n",
      "Mark 5.00 20\n",
      "Mary 5.50 22\n",
      "Susie 4.25 18\n"
     ]
    }
   ],
   "source": [
    "awk '{ print $0 }' emp.data"
   ]
  },
  {
   "cell_type": "markdown",
   "metadata": {},
   "source": [
    "**Print certain fields**"
   ]
  },
  {
   "cell_type": "code",
   "execution_count": 5,
   "metadata": {},
   "outputs": [
    {
     "name": "stdout",
     "output_type": "stream",
     "text": [
      "Beth 0\n",
      "Dan 0\n",
      "Kathy 10\n",
      "Mark 20\n",
      "Mary 22\n",
      "Susie 18\n"
     ]
    }
   ],
   "source": [
    "awk '{ print $1, $3 }' emp.data"
   ]
  },
  {
   "cell_type": "markdown",
   "metadata": {},
   "source": [
    "**NF, the Number of Fields**"
   ]
  },
  {
   "cell_type": "code",
   "execution_count": 6,
   "metadata": {},
   "outputs": [
    {
     "name": "stdout",
     "output_type": "stream",
     "text": [
      "3 Beth 0\n",
      "3 Dan 0\n",
      "3 Kathy 10\n",
      "3 Mark 20\n",
      "3 Mary 22\n",
      "3 Susie 18\n"
     ]
    }
   ],
   "source": [
    "awk '{ print NF, $1, $NF }' emp.data"
   ]
  },
  {
   "cell_type": "markdown",
   "metadata": {},
   "source": [
    "**Computing and Printing**"
   ]
  },
  {
   "cell_type": "code",
   "execution_count": 7,
   "metadata": {},
   "outputs": [
    {
     "name": "stdout",
     "output_type": "stream",
     "text": [
      "Beth 0\n",
      "Dan 0\n",
      "Kathy 40\n",
      "Mark 100\n",
      "Mary 121\n",
      "Susie 76.5\n"
     ]
    }
   ],
   "source": [
    "awk '{ print $1, $2 * $3 }' emp.data"
   ]
  },
  {
   "cell_type": "markdown",
   "metadata": {},
   "source": [
    "**Printing line numbers**"
   ]
  },
  {
   "cell_type": "code",
   "execution_count": 8,
   "metadata": {},
   "outputs": [
    {
     "name": "stdout",
     "output_type": "stream",
     "text": [
      "1 Beth 4.00 0\n",
      "2 Dan 3.75 0\n",
      "3 Kathy 4.00 10\n",
      "4 Mark 5.00 20\n",
      "5 Mary 5.50 22\n",
      "6 Susie 4.25 18\n"
     ]
    }
   ],
   "source": [
    "awk '{ print NR, $0 }' emp.data"
   ]
  },
  {
   "cell_type": "markdown",
   "metadata": {},
   "source": [
    "**Putting Text in the Output**"
   ]
  },
  {
   "cell_type": "code",
   "execution_count": 10,
   "metadata": {},
   "outputs": [
    {
     "name": "stdout",
     "output_type": "stream",
     "text": [
      "total pay for Beth is 0\n",
      "total pay for Dan is 0\n",
      "total pay for Kathy is 40\n",
      "total pay for Mark is 100\n",
      "total pay for Mary is 121\n",
      "total pay for Susie is 76.5\n"
     ]
    }
   ],
   "source": [
    "awk '{ print \"total pay for\", $1, \"is\", $2 * $3 }' emp.data"
   ]
  },
  {
   "cell_type": "markdown",
   "metadata": {},
   "source": [
    "## 1.3 Fancier output\n",
    "\n",
    "**Lining Up Fields**\n",
    "\n",
    "The `printf` statement has the form\n",
    "\n",
    "printf($format, value_1, value_2, ... , value_n$)\n",
    "\n",
    "where $format$ is a string that contains text to be printed verbatim, interspersed\n",
    "with specifications of how each of the values is to be printed. A specification is\n",
    "a `%` followed by a few characters that control the format of a value.\n",
    "\n",
    "Here's a program that uses `printf` to print the total pay for every\n",
    "employee:"
   ]
  },
  {
   "cell_type": "code",
   "execution_count": 11,
   "metadata": {},
   "outputs": [
    {
     "name": "stdout",
     "output_type": "stream",
     "text": [
      "total pay for Beth is $0.00\n",
      "total pay for Dan is $0.00\n",
      "total pay for Kathy is $40.00\n",
      "total pay for Mark is $100.00\n",
      "total pay for Mary is $121.00\n",
      "total pay for Susie is $76.50\n"
     ]
    }
   ],
   "source": [
    "awk '{ printf(\"total pay for %s is $%.2f\\n\", $1, $2 * $3) }' emp.data"
   ]
  },
  {
   "cell_type": "markdown",
   "metadata": {},
   "source": [
    "The `%s` says to print the first value, `$1`, as a string of characters; the\n",
    "second, `%.2f`, says to print the second value, `$2 * $3`, as a number with 2 digits\n",
    "after the decimal point. Everything else in the specification string, including the\n",
    "dollar sign, is printed verbatim.\n",
    "\n",
    "Here's another program that prints each employee's name and pay:"
   ]
  },
  {
   "cell_type": "code",
   "execution_count": 12,
   "metadata": {},
   "outputs": [
    {
     "name": "stdout",
     "output_type": "stream",
     "text": [
      "Beth     $  0.00\n",
      "Dan      $  0.00\n",
      "Kathy    $ 40.00\n",
      "Mark     $100.00\n",
      "Mary     $121.00\n",
      "Susie    $ 76.50\n"
     ]
    }
   ],
   "source": [
    "awk '{ printf(\"%-8s $%6.2f\\n\", $1, $2 * $3) }' emp.data"
   ]
  },
  {
   "cell_type": "markdown",
   "metadata": {},
   "source": [
    "The first specification, `%-8s`, prints a name as a string of characters left-\n",
    "justified in a field 8 characters wide. The second specification, `%6.2f`, prints\n",
    "the pay as a number with two digits after the decimal point, in a field 6 characters wide."
   ]
  },
  {
   "cell_type": "markdown",
   "metadata": {},
   "source": [
    "**Sorting the output**"
   ]
  },
  {
   "cell_type": "code",
   "execution_count": 16,
   "metadata": {},
   "outputs": [
    {
     "name": "stdout",
     "output_type": "stream",
     "text": [
      "  0.00 Beth 4.00 0\n",
      "  0.00 Dan 3.75 0\n",
      " 40.00 Kathy 4.00 10\n",
      " 76.50 Susie 4.25 18\n",
      "100.00 Mark 5.00 20\n",
      "121.00 Mary 5.50 22\n"
     ]
    }
   ],
   "source": [
    "awk '{ printf(\"%6.2f %s\\n\", $2 * $3, $0) }' emp.data | sort -n"
   ]
  },
  {
   "cell_type": "markdown",
   "metadata": {},
   "source": [
    "# 1.4 Selection\n",
    "\n",
    "**Selection by Comparison**\n",
    "\n",
    "This program uses a comparison pattern to select the records of employees\n",
    "who earn $5.00 or more per hour, that is, lines in which the second field is\n",
    "greater than or equal to 5:"
   ]
  },
  {
   "cell_type": "code",
   "execution_count": 17,
   "metadata": {},
   "outputs": [
    {
     "name": "stdout",
     "output_type": "stream",
     "text": [
      "Mark 5.00 20\n",
      "Mary 5.50 22\n"
     ]
    }
   ],
   "source": [
    "awk '$2 >= 5' emp.data"
   ]
  },
  {
   "cell_type": "markdown",
   "metadata": {},
   "source": [
    "**Selection by Computation**\n",
    "\n",
    "This program prints the pay of those employees whose total pay exceeds $50:"
   ]
  },
  {
   "cell_type": "code",
   "execution_count": 19,
   "metadata": {},
   "outputs": [
    {
     "name": "stdout",
     "output_type": "stream",
     "text": [
      "$100.00 for Mark\n",
      "$121.00 for Mary\n",
      "$76.50 for Susie\n"
     ]
    }
   ],
   "source": [
    "awk '$2 * $3 > 50 { printf(\"$%.2f for %s\\n\", $2 * $3, $1) }' emp.data"
   ]
  },
  {
   "cell_type": "markdown",
   "metadata": {},
   "source": [
    "**Selection by Text Content**\n",
    "\n",
    "Print all lines in which the first field is Susie:"
   ]
  },
  {
   "cell_type": "code",
   "execution_count": 21,
   "metadata": {},
   "outputs": [
    {
     "name": "stdout",
     "output_type": "stream",
     "text": [
      "Susie 4.25 18\n"
     ]
    }
   ],
   "source": [
    "awk '$1 == \"Susie\"' emp.data"
   ]
  },
  {
   "cell_type": "markdown",
   "metadata": {},
   "source": [
    "The operator `==` tests for equality. You can also look for text containing any of\n",
    "a set of letters, words, and phrases by using patterns called regular expressions.\n",
    "\n",
    "This program prints all lines that contain Susie anywhere:"
   ]
  },
  {
   "cell_type": "code",
   "execution_count": 22,
   "metadata": {},
   "outputs": [
    {
     "name": "stdout",
     "output_type": "stream",
     "text": [
      "Susie 4.25 18\n"
     ]
    }
   ],
   "source": [
    "awk '/Susie/' emp.data"
   ]
  },
  {
   "cell_type": "markdown",
   "metadata": {},
   "source": [
    "**Combinations of Patterns**\n",
    "\n",
    "Patterns can be combined with parentheses and the logical operators `&&`, `||` and `!`, which stand for *AND*, *OR*, and *NOT*.\n",
    "\n",
    "Print the lines where `$2` is at least `4` or `$3` is at least `20`:"
   ]
  },
  {
   "cell_type": "code",
   "execution_count": 23,
   "metadata": {},
   "outputs": [
    {
     "name": "stdout",
     "output_type": "stream",
     "text": [
      "Beth 4.00 0\n",
      "Kathy 4.00 10\n",
      "Mark 5.00 20\n",
      "Mary 5.50 22\n",
      "Susie 4.25 18\n"
     ]
    }
   ],
   "source": [
    "awk '$2 >= 4 || $3 >= 20' emp.data"
   ]
  },
  {
   "cell_type": "markdown",
   "metadata": {},
   "source": [
    "Lines that satisfy both conditions are printed only once.\n",
    "\n",
    "The next one prints lines where it is not true that `$2` is less than `4` and `$3` is less than `20`; this condition is equivalent to the first one above, though perhaps less readable."
   ]
  },
  {
   "cell_type": "code",
   "execution_count": 39,
   "metadata": {},
   "outputs": [
    {
     "name": "stdout",
     "output_type": "stream",
     "text": [
      "Beth 4.00 0\n",
      "Kathy 4.00 10\n",
      "Mark 5.00 20\n",
      "Mary 5.50 22\n",
      "Susie 4.25 18\n"
     ]
    }
   ],
   "source": [
    "awk '!($2 < 4 && $3 < 20)' emp.data"
   ]
  },
  {
   "cell_type": "markdown",
   "metadata": {},
   "source": [
    "**Data Validation**\n",
    "\n",
    "There are always errors in real data. Awk is an excellent tool for checking\n",
    "that data has reasonable values and is in the right format, a task that is often\n",
    "called *data validation*.\n",
    "\n",
    "Data validation is essentially negative: instead of printing lines with desirable\n",
    "properties, one prints lines that are suspicious. The following program uses comparison patterns to apply five plausibility tests to each line of `emp.data`:"
   ]
  },
  {
   "cell_type": "code",
   "execution_count": 11,
   "metadata": {},
   "outputs": [],
   "source": [
    "awk 'NF != 3 { print $0, \"number of fields is not equal to 3\" }' emp.data"
   ]
  },
  {
   "cell_type": "code",
   "execution_count": 43,
   "metadata": {},
   "outputs": [],
   "source": [
    "awk '$2 < 3.35 { print $0, \"rate is below minimum wage\" }' emp.data"
   ]
  },
  {
   "cell_type": "code",
   "execution_count": 8,
   "metadata": {},
   "outputs": [],
   "source": [
    "awk '$2 > 10 { print $0, \"rate exceeds $10 per hour\" }' emp.data"
   ]
  },
  {
   "cell_type": "code",
   "execution_count": 7,
   "metadata": {},
   "outputs": [],
   "source": [
    "awk '$3 < 0 { print $0, \"negative hours worked\" }' emp.data"
   ]
  },
  {
   "cell_type": "code",
   "execution_count": 6,
   "metadata": {},
   "outputs": [],
   "source": [
    "awk '$3 > 60 { print $0, \"too many hours worked\" }' emp.data"
   ]
  },
  {
   "cell_type": "markdown",
   "metadata": {},
   "source": [
    "If there are no errors, there's no output."
   ]
  },
  {
   "cell_type": "markdown",
   "metadata": {},
   "source": [
    "**BEGIN and END**\n",
    "\n",
    "The special pattern `BEGIN` matches before the first line of the first input file is read, and `END` matches after the last line of the last file has been processed. This program uses `BEGIN` to print a heading:"
   ]
  },
  {
   "cell_type": "code",
   "execution_count": 2,
   "metadata": {},
   "outputs": [
    {
     "name": "stdout",
     "output_type": "stream",
     "text": [
      "NAME RATE HOURS\n",
      "\n",
      "Beth 4.00 0\n",
      "Dan 3.75 0\n",
      "Kathy 4.00 10\n",
      "Mark 5.00 20\n",
      "Mary 5.50 22\n",
      "Susie 4.25 18\n"
     ]
    }
   ],
   "source": [
    "awk 'BEGIN { print \"NAME RATE HOURS\"; print \"\" }\n",
    "           { print }' emp.data"
   ]
  },
  {
   "cell_type": "markdown",
   "metadata": {},
   "source": [
    "## 1.5 Computing with AWK\n",
    "\n",
    "An action is a sequence of statements separated by newlines or semicolons.\n",
    "You have already seen examples in which the action was a single `print` statement. This section provides examples of statements for performing simple\n",
    "numeric and string computations. In these statements you can use not only the\n",
    "built-in variables like `NF`, but you can create your own variables for performing\n",
    "calculations, storing data, and the like. In awk, user-created variables are not\n",
    "declared.\n",
    "\n",
    "**Counting**\n",
    "\n",
    "This program uses a variable emp to count employees who have worked more\n",
    "than 15 hours:"
   ]
  },
  {
   "cell_type": "code",
   "execution_count": 3,
   "metadata": {},
   "outputs": [
    {
     "name": "stdout",
     "output_type": "stream",
     "text": [
      "3 employees worked more than 15 hours\n"
     ]
    }
   ],
   "source": [
    "awk '$3 > 15 { emp = emp + 1 }\n",
    "     END     { print emp, \"employees worked more than 15 hours\" }' emp.data"
   ]
  },
  {
   "cell_type": "markdown",
   "metadata": {},
   "source": [
    "Awk variables used as numbers begin life with the value `0`, so we didn't need to\n",
    "initialize `emp`.\n",
    "\n",
    "**Computing Sums and Averages**\n",
    "\n",
    "To count the number of employees, we can use the built-in variable `NR`, which holds the number of lines read so far; its value at the end of all input is the total number of lines read."
   ]
  },
  {
   "cell_type": "code",
   "execution_count": 12,
   "metadata": {},
   "outputs": [
    {
     "name": "stdout",
     "output_type": "stream",
     "text": [
      "6 employees\n"
     ]
    }
   ],
   "source": [
    "awk 'END { print NR, \"employees\" }' emp.data"
   ]
  },
  {
   "cell_type": "markdown",
   "metadata": {},
   "source": [
    "Here is a program that uses `NR` to compute the average pay:"
   ]
  },
  {
   "cell_type": "code",
   "execution_count": 13,
   "metadata": {},
   "outputs": [
    {
     "name": "stdout",
     "output_type": "stream",
     "text": [
      "6 employees\n",
      "total pay is 337.5\n",
      "average pay is 56.25\n"
     ]
    }
   ],
   "source": [
    "awk '{ pay = pay + $2 * $3 }\n",
    " END { print NR, \"employees\"\n",
    "       print \"total pay is\", pay\n",
    "       print \"average pay is\", pay/NR }' emp.data"
   ]
  },
  {
   "cell_type": "markdown",
   "metadata": {},
   "source": [
    "Clearly, `printf` could be used to produce neater output. There's also a potential error: in the unlikely case that `NR` is zero, the program will attempt to divide by zero and thus will generate an error message."
   ]
  },
  {
   "cell_type": "markdown",
   "metadata": {},
   "source": [
    "**Handling Text**\n",
    "\n",
    "One of the strengths of awk is its ability to handle strings of characters as conveniently as most languages handle numbers. Awk variables can hold strings of characters as well as numbers. This program finds the employee who is paid the most per hour:"
   ]
  },
  {
   "cell_type": "code",
   "execution_count": 14,
   "metadata": {},
   "outputs": [
    {
     "name": "stdout",
     "output_type": "stream",
     "text": [
      "highest hourly rate: 5.50 for Mary\n"
     ]
    }
   ],
   "source": [
    "awk '$2 > maxrate { maxrate = $2; maxemp = $1 }\n",
    "     END { print \"highest hourly rate:\", maxrate, \"for\", maxemp }' emp.data"
   ]
  },
  {
   "cell_type": "markdown",
   "metadata": {},
   "source": [
    "In this program the variable `maxrate` holds a numeric value, while the variable `maxemp` holds a string. (If there are several employees who all make the same maximum pay, this program finds only the first.}\n",
    "\n",
    "**String Concatenation**\n",
    "\n",
    "New strings may be created by combining old ones; this operation is called concatenation. This program collects all the employee names into a single string, by appending each name and a blank to the previous value in the variable names. The value of names is printed by the END action:"
   ]
  },
  {
   "cell_type": "code",
   "execution_count": 15,
   "metadata": {},
   "outputs": [
    {
     "name": "stdout",
     "output_type": "stream",
     "text": [
      "Beth Dan Kathy Mark Mary Susie \n"
     ]
    }
   ],
   "source": [
    "awk ' { names = names $1 \" \" }\n",
    "  END { print names }' emp.data"
   ]
  },
  {
   "cell_type": "markdown",
   "metadata": {},
   "source": [
    "The concatenation operation is represented in an awk program by writing string values one after the other. At every input line, the first statement in the program concatenates three strings: the previous value of names, the first field, and a blank; it then assigns the resulting string to names. Thus, after all input lines have been read, names contains a single string consisting of the names of all the employees, each followed by a blank. Variables used to store strings begin life holding the null string (that is, the string containing no characters), so in this program names did not need to be explicitly initialized."
   ]
  },
  {
   "cell_type": "markdown",
   "metadata": {},
   "source": [
    "**Printing the Last Input Line**\n",
    "\n",
    "Although `NR` retains its value in an `END` action, `$0` does not. This program is one way to print the last input line:"
   ]
  },
  {
   "cell_type": "code",
   "execution_count": 16,
   "metadata": {},
   "outputs": [
    {
     "name": "stdout",
     "output_type": "stream",
     "text": [
      "Susie 4.25 18\n"
     ]
    }
   ],
   "source": [
    "awk '{ last = $0 }\n",
    " END { print last }' emp.data"
   ]
  },
  {
   "cell_type": "markdown",
   "metadata": {},
   "source": [
    "**Built-in Functions**\n",
    "\n",
    "We have already seen that awk provides built-in variables that maintain frequently used quantities like the number of fields and the input line number. Similarly, there are built-in functions for computing other useful values. Besides arithmetic functions for square roots, logarithms, random numbers, and the like, there are also functions that manipulate text. One of these is length, which counts the number of characters in a string. For example, this program computes the length of each person's name:"
   ]
  },
  {
   "cell_type": "code",
   "execution_count": 17,
   "metadata": {},
   "outputs": [
    {
     "name": "stdout",
     "output_type": "stream",
     "text": [
      "Beth 4\n",
      "Dan 3\n",
      "Kathy 5\n",
      "Mark 4\n",
      "Mary 4\n",
      "Susie 5\n"
     ]
    }
   ],
   "source": [
    "awk '{ print $1, length($1)}' emp.data"
   ]
  },
  {
   "cell_type": "markdown",
   "metadata": {},
   "source": [
    "**Counting Lines, Words, and Characters**\n",
    "\n",
    "This program uses `length`, `NF`, and `NR` to count the number of lines, words, and characters in the input. For convenience, we'll treat each field as a word."
   ]
  },
  {
   "cell_type": "code",
   "execution_count": 18,
   "metadata": {},
   "outputs": [
    {
     "name": "stdout",
     "output_type": "stream",
     "text": [
      "6 lines, 18 words, 77 characters\n"
     ]
    }
   ],
   "source": [
    "awk '{ nc = nc + length($0) + 1\n",
    "       nw = nw + NF\n",
    "     }\n",
    "     END { print NR, \"lines,\", nw, \"words,\", nc, \"characters\" }' emp.data"
   ]
  },
  {
   "cell_type": "markdown",
   "metadata": {},
   "source": [
    "We have added one for the newline character at the end of each input line,\n",
    "since `$0` doesn't include it."
   ]
  }
 ],
 "metadata": {
  "kernelspec": {
   "display_name": "Bash",
   "language": "bash",
   "name": "bash"
  },
  "language_info": {
   "codemirror_mode": "shell",
   "file_extension": ".sh",
   "mimetype": "text/x-sh",
   "name": "bash"
  }
 },
 "nbformat": 4,
 "nbformat_minor": 2
}
